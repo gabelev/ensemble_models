{
 "cells": [
  {
   "cell_type": "code",
   "execution_count": 1,
   "metadata": {
    "collapsed": false
   },
   "outputs": [],
   "source": [
    "import pandas as pd\n",
    "import random\n",
    "from sklearn.feature_extraction import DictVectorizer"
   ]
  },
  {
   "cell_type": "code",
   "execution_count": 5,
   "metadata": {
    "collapsed": false
   },
   "outputs": [],
   "source": [
    "def reformat_data(file_name):\n",
    "    with open(file_name, \"r\") as infile:\n",
    "        initial_data = []\n",
    "        for line in infile:\n",
    "            if line == \"\\n\":\n",
    "                continue\n",
    "            tmp = {}\n",
    "            tmp[\"label\"] = line.split()[0]\n",
    "            for item in line.split(\"|\")[1:]:\n",
    "                tmp[item[0]] = item[2:].rstrip()\n",
    "            #tmp.update({item[0]: item[2:].rstrip() for item in line.split(\"|\")[1:]})\n",
    "            if tmp.get(\"t\"):\n",
    "                tmp[\"t\"] = tmp[\"t\"]\n",
    "            initial_data.append(tmp)\n",
    "    return initial_data"
   ]
  },
  {
   "cell_type": "code",
   "execution_count": 6,
   "metadata": {
    "collapsed": true
   },
   "outputs": [],
   "source": [
    "x = reformat_data(\"bb.vwin\")"
   ]
  },
  {
   "cell_type": "code",
   "execution_count": 7,
   "metadata": {
    "collapsed": false
   },
   "outputs": [
    {
     "data": {
      "text/plain": [
       "[{'a': '01-00',\n",
       "  'b': '_31136',\n",
       "  'c': '_6535',\n",
       "  'd': 'Desktop',\n",
       "  'e': 'm',\n",
       "  'f': '_1',\n",
       "  'h': 'Sat 20 Sat_20',\n",
       "  'i': 'pc17535',\n",
       "  'label': '-1.0',\n",
       "  'm': 'm-f9f0a12b',\n",
       "  'o': 'Windows',\n",
       "  'p': 'ranker.com',\n",
       "  'r': 'ME',\n",
       "  's': '_38907',\n",
       "  't': 'page_visit',\n",
       "  'w': 'Chrome',\n",
       "  'y': 'US',\n",
       "  'z': '728x90'},\n",
       " {'a': '19-02',\n",
       "  'b': '_24363',\n",
       "  'c': '_4830',\n",
       "  'd': 'Desktop',\n",
       "  'e': 'g',\n",
       "  'f': '_2',\n",
       "  'h': 'Sat 19 Sat_19',\n",
       "  'i': 'pv16818',\n",
       "  'label': '-1.0',\n",
       "  'm': 'g-2421',\n",
       "  'o': 'Windows',\n",
       "  'p': 'cardgamespidersolitaire.com',\n",
       "  'r': 'IL',\n",
       "  's': '_26507',\n",
       "  't': 'page_visit',\n",
       "  'w': 'Chrome',\n",
       "  'y': 'US',\n",
       "  'z': '728x90'},\n",
       " {'b': '_31986',\n",
       "  'c': '_6670',\n",
       "  'd': 'Desktop',\n",
       "  'e': 'n',\n",
       "  'f': '_0',\n",
       "  'h': 'Sat 20 Sat_20',\n",
       "  'i': 'pv15239',\n",
       "  'label': '-1.0',\n",
       "  'm': 'n-280',\n",
       "  'o': 'Windows',\n",
       "  'p': 'skype.com',\n",
       "  'r': 'NC',\n",
       "  's': '_40762',\n",
       "  't': 'checkout',\n",
       "  'w': 'IE',\n",
       "  'y': 'US',\n",
       "  'z': '300x250'},\n",
       " {'a': '01-02',\n",
       "  'b': '_32669',\n",
       "  'c': '_5384',\n",
       "  'd': 'Desktop',\n",
       "  'e': 'g',\n",
       "  'f': '_2',\n",
       "  'h': 'Sat 20 Sat_20',\n",
       "  'i': 'pv17910',\n",
       "  'k': '69266c67e75c946e',\n",
       "  'label': '-1.0',\n",
       "  'm': 'g-2734',\n",
       "  'o': 'Mac_OS_X',\n",
       "  'p': 'nydailynews.com',\n",
       "  'r': 'CT',\n",
       "  's': '_31750',\n",
       "  't': 'page_visit',\n",
       "  'v': '_1571',\n",
       "  'w': 'Chrome',\n",
       "  'y': 'US',\n",
       "  'z': '300x250'},\n",
       " {'a': '01-00',\n",
       "  'b': '_26954',\n",
       "  'c': '_5801',\n",
       "  'd': 'Desktop',\n",
       "  'e': 'm',\n",
       "  'f': '_1',\n",
       "  'h': 'Sat 19 Sat_19',\n",
       "  'i': 'pv17535',\n",
       "  'label': '-1.0',\n",
       "  'm': 'm-028f3a17',\n",
       "  'o': 'Windows',\n",
       "  'p': 'dose.com',\n",
       "  'r': 'AR',\n",
       "  's': '_34883',\n",
       "  't': 'page_visit',\n",
       "  'w': 'IE',\n",
       "  'y': 'US',\n",
       "  'z': '728x90'}]"
      ]
     },
     "execution_count": 7,
     "metadata": {},
     "output_type": "execute_result"
    }
   ],
   "source": [
    "x[:5]"
   ]
  },
  {
   "cell_type": "code",
   "execution_count": 30,
   "metadata": {
    "collapsed": false
   },
   "outputs": [],
   "source": [
    "#opens the raw dataset and formats it into a list of dictionaries\n",
    "with open(\"bb.vwin\", \"r\") as infile:\n",
    "    initial_data = []\n",
    "    label_list = []\n",
    "    for line in infile:\n",
    "        if line == \"\\n\":\n",
    "            continue\n",
    "        label = line.split()[0]\n",
    "        if label == '-1.0':\n",
    "            label = 0\n",
    "        if label == '1.0'\n",
    "        label_list.append(label)\n",
    "        tmp = {}\n",
    "        tmp.update({item[0]: item[2:].rstrip() for item in line.split(\"|\")[1:]})\n",
    "        if tmp.get(\"t\"):\n",
    "            tmp[\"t\"] = tmp[\"t\"]\n",
    "        initial_data.append(tmp)"
   ]
  },
  {
   "cell_type": "code",
   "execution_count": 31,
   "metadata": {
    "collapsed": true
   },
   "outputs": [],
   "source": [
    "random.shuffle(initial_data)"
   ]
  },
  {
   "cell_type": "code",
   "execution_count": null,
   "metadata": {
    "collapsed": true
   },
   "outputs": [],
   "source": [
    "        if label == '-1.0':\n",
    "            label = 0\n",
    "        if label == '1.0'"
   ]
  },
  {
   "cell_type": "code",
   "execution_count": 35,
   "metadata": {
    "collapsed": true
   },
   "outputs": [],
   "source": [
    "# returns value if key exists, and \" \" if not. Takes searched key and dictionary as input.\n",
    "def getit(item, store):\n",
    "    if item in store:\n",
    "        return store.get(item)\n",
    "    else:\n",
    "        return \" \""
   ]
  },
  {
   "cell_type": "code",
   "execution_count": 36,
   "metadata": {
    "collapsed": false
   },
   "outputs": [],
   "source": [
    "#takes the formated dataset and creates a new list of dictionaries with the following feature interations:\n",
    "# -q si -q pi -q mi -q ai -q ps -q ei -q ri -q pc -q pb -q bi -q ki -q pk -q wi\n",
    "data_feature_interaction = []\n",
    "for line in initial_data:\n",
    "    temp_dict = line.copy()\n",
    "    tmp = {\n",
    "        \"si\": getit(\"s\", line) + \" \" + getit(\"i\", line),\n",
    "        \"pi\": getit(\"p\", line) + \" \" + getit(\"i\", line),\n",
    "        \"mi\": getit(\"m\", line) + \" \" + getit(\"i\", line),\n",
    "        \"ai\": getit(\"a\", line) + \" \" + getit(\"i\", line),\n",
    "        \"ps\": getit(\"p\", line) + \" \" + getit(\"s\", line),\n",
    "        \"ei\": getit(\"e\", line) + \" \" + getit(\"i\", line),\n",
    "        \"ri\": getit(\"r\", line) + \" \" + getit(\"i\", line),\n",
    "        \"pc\": getit(\"p\", line) + \" \" + getit(\"c\", line),\n",
    "        \"pb\": getit(\"p\", line) + \" \" + getit(\"b\", line),\n",
    "        \"bi\": getit(\"b\", line) + \" \" + getit(\"i\", line),\n",
    "        \"ki\": getit(\"k\", line) + \" \" + getit(\"i\", line),\n",
    "        \"pk\": getit(\"p\", line) + \" \" + getit(\"k\", line),\n",
    "        \"wi\": getit(\"w\", line) + \" \" + getit(\"i\", line),\n",
    "    }\n",
    "    temp_dict.update(tmp)\n",
    "    data_feature_interaction.append(temp_dict)\n"
   ]
  },
  {
   "cell_type": "code",
   "execution_count": 26,
   "metadata": {
    "collapsed": true
   },
   "outputs": [],
   "source": []
  },
  {
   "cell_type": "code",
   "execution_count": null,
   "metadata": {
    "collapsed": true
   },
   "outputs": [],
   "source": []
  },
  {
   "cell_type": "code",
   "execution_count": 39,
   "metadata": {
    "collapsed": false
   },
   "outputs": [],
   "source": [
    "# v = DictVectorizer(sparse=True)\n",
    "# X = v.fit_transform(initial_data)\n",
    "# feature_names = {name: index for name, index in v.vocabulary_.items()}\n",
    "# vec_X = X.toarray()"
   ]
  },
  {
   "cell_type": "code",
   "execution_count": null,
   "metadata": {
    "collapsed": true
   },
   "outputs": [],
   "source": []
  }
 ],
 "metadata": {
  "kernelspec": {
   "display_name": "Python 2",
   "language": "python",
   "name": "python2"
  },
  "language_info": {
   "codemirror_mode": {
    "name": "ipython",
    "version": 2
   },
   "file_extension": ".py",
   "mimetype": "text/x-python",
   "name": "python",
   "nbconvert_exporter": "python",
   "pygments_lexer": "ipython2",
   "version": "2.7.10"
  }
 },
 "nbformat": 4,
 "nbformat_minor": 0
}
